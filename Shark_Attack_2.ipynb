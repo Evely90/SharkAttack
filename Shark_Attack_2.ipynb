{
  "nbformat": 4,
  "nbformat_minor": 0,
  "metadata": {
    "colab": {
      "provenance": [],
      "collapsed_sections": [
        "2DnypKNrPeeJ",
        "f3HOs_Fdecf1",
        "femELduzZlQP",
        "joOzgeE16IW7",
        "yaNeMYpVXnmW"
      ],
      "authorship_tag": "ABX9TyPR6RhdfsxS4037EevQnmpu",
      "include_colab_link": true
    },
    "kernelspec": {
      "name": "python3",
      "display_name": "Python 3"
    },
    "language_info": {
      "name": "python"
    }
  },
  "cells": [
    {
      "cell_type": "markdown",
      "metadata": {
        "id": "view-in-github",
        "colab_type": "text"
      },
      "source": [
        "<a href=\"https://colab.research.google.com/github/eevee90/SharkAttack/blob/main/Shark_Attack_2.ipynb\" target=\"_parent\"><img src=\"https://colab.research.google.com/assets/colab-badge.svg\" alt=\"Open In Colab\"/></a>"
      ]
    },
    {
      "cell_type": "markdown",
      "source": [
        "# Shark Attack"
      ],
      "metadata": {
        "id": "_Mv9b1hoFRZB"
      }
    },
    {
      "cell_type": "markdown",
      "source": [
        "## Introduction"
      ],
      "metadata": {
        "id": "2DnypKNrPeeJ"
      }
    },
    {
      "cell_type": "markdown",
      "source": [
        "In this notebook, the following questions will be analyzed:\n",
        "\n",
        "1. What are the most dangerous types of sharks to humans?\n",
        "2. Are children more likely to be attacked by sharks?\n",
        "3. Are shark attacks where sharks were provoked more or less dangerous?\n",
        "4. Are certain activities more likely to result in a shark attack?\n",
        "\n",
        "Before answering these questions, the dataset will be explored to understand its contents, identify any missing data, and determine if any adjustments are necessary.\n"
      ],
      "metadata": {
        "id": "RdIUmmXz-huQ"
      }
    },
    {
      "cell_type": "markdown",
      "source": [
        "## Exploring data"
      ],
      "metadata": {
        "id": "YO3M-HYZGEae"
      }
    },
    {
      "cell_type": "code",
      "execution_count": 891,
      "metadata": {
        "id": "eo29ziHb6Jql"
      },
      "outputs": [],
      "source": [
        "import numpy as np\n",
        "import pandas as pd\n",
        "import matplotlib.pyplot as plt\n",
        "import string\n",
        "import re\n",
        "import matplotlib.image as mpimg\n",
        "from PIL import Image\n",
        "import io\n",
        "import requests\n",
        "%reload_ext google.colab.data_table\n",
        "\n",
        "# import csv\n",
        "df = pd.read_csv('https://raw.githubusercontent.com/eevee90/SharkAttack/main/attacks.csv', encoding='latin1')\n",
        "# Source of the csv: https://www.kaggle.com/felipeesc/shark-attack-dataset"
      ]
    },
    {
      "cell_type": "code",
      "source": [
        "df"
      ],
      "metadata": {
        "colab": {
          "base_uri": "https://localhost:8080/"
        },
        "id": "yTdUeCluE7j2",
        "outputId": "ff1374c9-8453-42ea-966e-2adff934f7f4"
      },
      "execution_count": 892,
      "outputs": [
        {
          "output_type": "stream",
          "name": "stdout",
          "text": [
            "Warning: total number of rows (25723) exceeds max_rows (20000). Falling back to pandas display.\n"
          ]
        }
      ]
    },
    {
      "cell_type": "code",
      "source": [
        "df.info()"
      ],
      "metadata": {
        "id": "NH0BcjWvESfn"
      },
      "execution_count": null,
      "outputs": []
    },
    {
      "cell_type": "markdown",
      "source": [
        "There are a lot of columns that aren't needed, and also there are loads of missing values. To make everything more clear, the columns that aren't needed will be dropped. The columns that ARE possibly needed, are:\n",
        "\n",
        "**1. What are the most dangerous types of sharks to humans?** 'Fatal (Y/N)' / 'Species' / 'Injury'\n",
        "\n",
        "**2. Are children more likely to be attacked by sharks?** 'Age' / 'Fatal (Y/N)' / 'Injury'\n",
        "\n",
        "**3. Are shark attacks where sharks were provoked more or less dangerous?** 'Type' / 'Fatal (Y/N)' / 'Injury'\n",
        "\n",
        "**4. Are certain activities more likely to result in a shark attack?** 'Activity' / 'Injury' / 'Fatal (Y/N)'\n",
        "\n",
        "So columns to keep are: 'Fatal (Y/N)', 'Species', 'Age', 'Type', 'Acitivity' and 'Injury'.\n",
        "\n",
        "Other than that, to make the data more useful and get insights, the following steps will be taken:\n",
        "- Rectify column names\n",
        "- Eliminate rows that have all values missing\n",
        "- Count the amount of missing values for each column\n",
        "- Count the amount of unique values and what those values are for each column."
      ],
      "metadata": {
        "id": "jpGcBXkPFMpY"
      }
    },
    {
      "cell_type": "code",
      "source": [
        "# Dropping the unnecessary columns\n",
        "df = df[['Age', 'Type', 'Activity', 'Injury', 'Fatal (Y/N)', 'Species ']]"
      ],
      "metadata": {
        "id": "rizqlg5jEe42"
      },
      "execution_count": null,
      "outputs": []
    },
    {
      "cell_type": "code",
      "source": [
        "# Rectify column names\n",
        "df = df.copy()\n",
        "df.rename(columns={\"Fatal (Y/N)\": \"Fatal\", \"Species \": \"Species\"}, inplace=True)\n",
        "df.columns"
      ],
      "metadata": {
        "id": "8k-HqmrrJ5fX"
      },
      "execution_count": null,
      "outputs": []
    },
    {
      "cell_type": "code",
      "source": [
        "# Drop all rows that have all values missing.\n",
        "df = df.dropna(how=\"all\")\n",
        "# We went from 25723 rows to 6302 rows"
      ],
      "metadata": {
        "id": "0v8aXm1HNDYm"
      },
      "execution_count": null,
      "outputs": []
    },
    {
      "cell_type": "code",
      "source": [
        "# Find out how many missing values there are in each column\n",
        "def missing_values(df):\n",
        "    for col in df:\n",
        "      total_rows = len(df)\n",
        "      null_count = df[col].isnull().sum()\n",
        "      null_percentage = (null_count / total_rows) * 100\n",
        "      print(f\"Column: '{col}' | Count: {null_count} | Percentage: {null_percentage:.2f}%\")\n",
        "\n",
        "missing_values(df)"
      ],
      "metadata": {
        "id": "p24VBeiffM89"
      },
      "execution_count": null,
      "outputs": []
    },
    {
      "cell_type": "code",
      "source": [
        "# Vertical bar chart to display the percentage of missing values\n",
        "percentage = (df.isnull().mean() * 100).sort_values(ascending=False)\n",
        "fig, ax = plt.subplots(figsize=(12, 8))\n",
        "percentage.plot(kind='bar')\n",
        "bar_container = ax.bar(percentage.index, percentage, color=['tomato' if x >= 10 else 'skyblue' for x in percentage], zorder=2)\n",
        "plt.xlabel('Column')\n",
        "plt.ylabel('Percentage')\n",
        "plt.title('Percentage of missing values for each column')\n",
        "plt.grid(axis='y', linestyle='--', alpha=0.5, zorder=1)\n",
        "ax.bar_label(bar_container, fmt='{:,.1f}%')\n",
        "plt.show()"
      ],
      "metadata": {
        "id": "FzQLG8fxVXm4"
      },
      "execution_count": null,
      "outputs": []
    },
    {
      "cell_type": "code",
      "source": [
        "# Find the number of unique values for each column\n",
        "def display_unique_values(df):\n",
        "    for col in df.columns:\n",
        "        unique_vals = df[col].value_counts()\n",
        "        print(f\"Column: '{col}' | Unique values count: {len(unique_vals)}\")\n",
        "        print(f\"{unique_vals.head(10)}\\n\")\n",
        "\n",
        "display_unique_values(df)"
      ],
      "metadata": {
        "id": "VvB0VkD9oYLz"
      },
      "execution_count": null,
      "outputs": []
    },
    {
      "cell_type": "markdown",
      "source": [
        "## 1. What are the most dangerous types of sharks to humans?\n"
      ],
      "metadata": {
        "id": "f3HOs_Fdecf1"
      }
    },
    {
      "cell_type": "markdown",
      "source": [
        "To answer this question, let's operationalize the concept of 'dangerous' in different ways:\n",
        "1. Frequency of attacks: The shark species that has been involved in the most attacks, whether fatal or non-fatal, could be considered the most dangerous\n",
        "\n",
        "2. Fatal attacks: Alternatively, the focus can be specifically on fatal attacks and determining which shark species is responsible for the most fatalities.\n",
        "\n",
        "3. Injury severity: Another approach could involve ranking the severity of injuries resulting from shark attacks, with fatal attacks considered the most severe. This approach might be challenging due to the subjectivity of injury severity: is a bitten foot more severe than a bitten hand? So let's focus on the first two approaches and see if they yield similar results.\n",
        "\n",
        "Steps to take for the first approach:\n",
        "\n",
        "* Clean up the 'Species' column, as it contains 1549 unique values while there probably aren't that many shark species.\n",
        "* Filter out rows with null values in the 'Species' column.\n",
        "* Create a chart to visualize the outcomes.\n",
        "\n",
        "Steps to take for the second approach:\n",
        "\n",
        "* Filter out rows with null values in the 'Fatal' column.\n",
        "* Clean up the 'Fatal' column.\n",
        "* Create a chart to visualize the outcomes."
      ],
      "metadata": {
        "id": "rWIqjsXDPRD4"
      }
    },
    {
      "cell_type": "code",
      "source": [
        "# Display the first and last 10 unique values to explore the 'Species' column\n",
        "# to be able to clean it up.\n",
        "df_q1 = df.copy()\n",
        "species_counts = df_q1['Species'].value_counts()\n",
        "print(pd.concat([species_counts.head(10), species_counts.tail(10)]))"
      ],
      "metadata": {
        "id": "3612uGnguF-L"
      },
      "execution_count": null,
      "outputs": []
    },
    {
      "cell_type": "code",
      "source": [
        "# Cleaning up the data:\n",
        "# Make all values that contain 'white shark' amongst other information to be 'white shark',\n",
        "# all values that contain 'tiger shark' amongst other information to be 'tiger shark', etc...\n",
        "\n",
        "# Extract species names using str.extract() method\n",
        "df_q1['Species'] = df_q1['Species'].str.extract(r'(?:\\s+)?(\\w{2,}) shark', flags=re.IGNORECASE)\n",
        "\n",
        "# Capitalize the first letter of each species name and append 'shark'\n",
        "df_q1['Species'] = df_q1['Species'].str.capitalize() + ' shark'\n",
        "\n",
        "# Display the first and last 10 unique species and their counts\n",
        "print(df_q1['Species'].value_counts().head(10))\n",
        "print(df_q1['Species'].value_counts().tail(10))\n",
        "\n",
        "# Drop the null values\n",
        "df_q1.dropna(subset=['Species'], inplace=True)\n",
        "\n",
        "# Display the total count of unique species\n",
        "unique_species_count = len(df_q1['Species'].unique())\n",
        "print(f\"\\nTotal Count of unique Species: {unique_species_count}\\n\")\n",
        "print(f\"All unique values: {df_q1['Species'].unique()}\")"
      ],
      "metadata": {
        "id": "NAsIo_FRvZLi"
      },
      "execution_count": null,
      "outputs": []
    },
    {
      "cell_type": "code",
      "source": [
        "# Check whether the null values of 'Species' have been dropped correctly\n",
        "missing_values(df_q1)"
      ],
      "metadata": {
        "id": "vULIBzWmLb6R"
      },
      "execution_count": null,
      "outputs": []
    },
    {
      "cell_type": "markdown",
      "source": [
        "While 95 species are identified, there are still occurrences of values that seem unrelated to actual shark species, such as '50 shark' or 'for shark'. Additionally, there might be spelling mistakes that aren't accounted for. These factors could lead to potential underestimations in the counts of certain species. Consequently, there might be slight variations in the ranking of species, particularly those with similar counts, which could affect the top 5-10 rankings. However, it's unlikely to alter the top 3. Let's create a chart to visualize the three shark species with the highest number of recorded attacks."
      ],
      "metadata": {
        "id": "D0g72-WIGJWp"
      }
    },
    {
      "cell_type": "code",
      "source": [
        "top_three = df_q1['Species'].value_counts().head(3) # Get the top 3 most occuring species\n",
        "top_three = top_three.iloc[::-1] # Reverse order so the most occuring species are on top of the chart\n",
        "\n",
        "# load background image. Probably not a common/recommended practice, but I'm new to this so I just want to play around with cool options and don't care for now\n",
        "url = 'https://cdn.pixabay.com/photo/2021/03/24/19/07/shark-6121088_1280.jpg'\n",
        "response = requests.get(url)\n",
        "img = Image.open(io.BytesIO(response.content))\n",
        "img = img.transpose(Image.FLIP_LEFT_RIGHT)\n",
        "\n",
        "# Create a plot with the background image\n",
        "fig, ax = plt.subplots(figsize=(10, 6))\n",
        "ax.imshow(img, aspect='auto', extent=[0, top_three.max() * 1.1, -0.5, 2.5], alpha=0.3)\n",
        "\n",
        "# Add bars horizontally with species on y-axis and counts on x-axis\n",
        "bar_container = ax.barh(top_three.index, top_three.values, color='midnightblue', zorder=2)\n",
        "plt.xlabel('Number of fatal accidents')\n",
        "plt.title('Top 3 most dangerous sharks to humans')\n",
        "ax.bar_label(bar_container, fmt=' {:,.0f}')\n",
        "plt.grid(axis='x', linestyle='--', alpha=0.5, color='cornflowerblue', zorder=1)\n",
        "plt.show()"
      ],
      "metadata": {
        "id": "zcS6OlciGox4"
      },
      "execution_count": null,
      "outputs": []
    },
    {
      "cell_type": "code",
      "source": [
        "# Display all unique values of 'Fatal' to clean it\n",
        "# Get the value counts of 'Fatal'\n",
        "df_q1['Fatal'].value_counts()"
      ],
      "metadata": {
        "id": "IUU35h0tGyOp"
      },
      "execution_count": null,
      "outputs": []
    },
    {
      "cell_type": "code",
      "source": [
        "# Change and drop values in 'Fatal' column\n",
        "# Replace 'Y' with True and 'N' with False\n",
        "df_q1['Fatal'] = df_q1['Fatal'].replace({'Y': True, 'N': False, ' N': False})\n",
        "\n",
        "# Remove rows with invalid entries in the 'Fatal' column\n",
        "invalid_entries = ['M', '2017', 'UNKNOWN']\n",
        "df_q1 = df_q1[~df_q1['Fatal'].isin(invalid_entries)]\n",
        "\n",
        "# Convert the 'Fatal' column to boolean type\n",
        "df_q1['Fatal'] = df_q1['Fatal'].astype(bool)\n",
        "\n",
        "# Drop null values\n",
        "df_q1.dropna(subset=['Fatal'], inplace=True)\n",
        "\n",
        "# Check the new values\n",
        "df_q1['Fatal'].value_counts()"
      ],
      "metadata": {
        "id": "JYV7GMoNIeWS"
      },
      "execution_count": null,
      "outputs": []
    },
    {
      "cell_type": "code",
      "source": [
        "# Filter the DataFrame to include only fatal attacks\n",
        "fatal_attacks = df_q1[df_q1['Fatal']]\n",
        "\n",
        "# Group the data by the 'Species' column and count the number of fatal attacks for each species\n",
        "fatal_counts = fatal_attacks['Species'].value_counts().head(3)\n",
        "\n",
        "# Calculate the percentage of fatal attacks for each species\n",
        "total_fatal_attacks = fatal_attacks.shape[0]\n",
        "fatal_percentage = (fatal_counts / total_fatal_attacks) * 100\n",
        "fatal_percentage = fatal_percentage.iloc[::-1] # Reverse order so I get the most occuring species on top of the chart\n",
        "\n",
        "# # load another background image because cool.\n",
        "url = 'https://cdn.pixabay.com/photo/2015/03/15/19/05/shark-674867_1280.jpg'\n",
        "response = requests.get(url)\n",
        "img = Image.open(io.BytesIO(response.content))\n",
        "img = img.transpose(Image.FLIP_LEFT_RIGHT)\n",
        "\n",
        "# Plot the percentage of fatal attacks for each species in a chart\n",
        "fig, ax = plt.subplots(figsize=(10, 6))\n",
        "ax.imshow(img, aspect='auto', extent=[0, fatal_percentage.max() * 1.1, -0.5, 2.5], alpha=0.3)\n",
        "\n",
        "# add bars horizontally with species on y-axis and counts on x-axis\n",
        "bar_container = ax.barh(fatal_percentage.index, fatal_percentage.values, color=\"midnightblue\", zorder=2)\n",
        "\n",
        "plt.xlabel('Percentage of Fatal Attacks')\n",
        "plt.ylabel('Shark Species')\n",
        "plt.title('Percentage of Fatal Attacks by Shark Species')\n",
        "ax.bar_label(bar_container, fmt=' {:,.1f} %')\n",
        "plt.grid(axis='x', linestyle='--', alpha=0.5, color='cornflowerblue', zorder=1)\n",
        "plt.show()"
      ],
      "metadata": {
        "id": "bmKipWrMMMmw"
      },
      "execution_count": null,
      "outputs": []
    },
    {
      "cell_type": "markdown",
      "source": [
        "So to answer the first question:\n",
        "\n",
        "**What are the most dangerous types of sharks to humans?**\n",
        "\n",
        "The white shark, tiger shark, and bull shark are considered the most dangerous shark species to humans, with the white shark being the most notorious. These three species are responsible for both the highest number of attacks and the highest percentage of fatal attacks on humans.\n",
        "\n",
        "Among them, the white shark stands out as the most fatal, accounting for 41.6% of all fatal attacks. Following closely is the tiger shark, responsible for 20.1% of fatal attacks, and the bull shark, which accounts for 10.9% of fatal attacks. Beyond these three species, determining a reliable top 5 or top 10 becomes challenging due to the messy and unclear nature of the data."
      ],
      "metadata": {
        "id": "Em4_b5ALO5Bx"
      }
    },
    {
      "cell_type": "markdown",
      "source": [
        "## 2. Are children more likely to be attacked by sharks?"
      ],
      "metadata": {
        "id": "femELduzZlQP"
      }
    },
    {
      "cell_type": "markdown",
      "source": [
        "To answer this question, it's essential to establish a clear definition of \"children.\" For the purposes of this analysis, \"children\" will be defined as individuals under the age of 18. Additionally, we may consider a subgroup of \"young children,\" defined as those aged 14 and below.\n",
        "\n",
        "Steps to take:\n",
        "- Filtering out null values in the 'Age' and 'Fatal' column to ensure the data used is complete and reliable.\n",
        "- Cleaning the 'Age' column to include only rows with unambiguous age numbers, removing any inconsistencies or non-numeric entries.\n",
        "- Cleaning the 'Fatal' column to determine if children experience fatal attacks at a different rate compared to adults."
      ],
      "metadata": {
        "id": "xo8p7skUZtgX"
      }
    },
    {
      "cell_type": "code",
      "source": [
        "# Drop missing values of 'Age'.\n",
        "df_q2 = df.copy()\n",
        "df_q2.dropna(subset=['Age'], inplace=True)\n",
        "missing_values(df_q2)"
      ],
      "metadata": {
        "id": "3Rt9M9kcaNk3"
      },
      "execution_count": null,
      "outputs": []
    },
    {
      "cell_type": "code",
      "source": [
        "# Display all unique values of 'Age' to clean it\n",
        "# Get the value counts of 'Age'\n",
        "df_q2['Age'].unique()"
      ],
      "metadata": {
        "id": "SD_sk4PBaZNA"
      },
      "execution_count": null,
      "outputs": []
    },
    {
      "cell_type": "code",
      "source": [
        "# Filter the DataFrame based on the 'Age' column by attempting to cast it to integers\n",
        "df_q2 = df_q2.loc[df_q2['Age'].astype(str).str.isdigit()]\n",
        "\n",
        "# Convert the 'Age' column to integers\n",
        "df_q2['Age'] = df_q2['Age'].astype(int)\n",
        "\n",
        "# Display the filtered DataFrame\n",
        "df_q2['Age'].unique()"
      ],
      "metadata": {
        "id": "l3Z2y7j0b7J3"
      },
      "execution_count": null,
      "outputs": []
    },
    {
      "cell_type": "code",
      "source": [
        "# Filter the DataFrame to separate children and adults\n",
        "children = df_q2[df_q2['Age'] < 18]\n",
        "adults = df_q2[df_q2['Age'] >= 18]\n",
        "\n",
        "# Count the number of attacks\n",
        "children_attacks = children.shape[0]\n",
        "adults_attacks = adults.shape[0]\n",
        "\n",
        "# Create stacked bar chart\n",
        "fig, ax = plt.subplots(figsize=(8, 6))\n",
        "ax.bar(['Children below 18'], [children_attacks], color='#6495ED', label='Children', zorder=2)\n",
        "ax.bar(['Adults age 18 or older'], [adults_attacks], color='#3CB371', label='Adults', zorder=2)\n",
        "\n",
        "ax.set_xlabel('Age Group')\n",
        "ax.set_ylabel('Number of Attacks')\n",
        "ax.set_title('Number of people attacked by sharks')\n",
        "ax.legend()\n",
        "ax.grid(axis='y', linestyle='--', alpha=0.5, color='grey', zorder=1)\n",
        "\n",
        "# Add labels to the bars\n",
        "for bars in [ax.patches]:\n",
        "    for bar in bars:\n",
        "        height = bar.get_height()\n",
        "        y_pos = bar.get_y() + height / 2  # Calculate the y-coordinate of the middle of each bar\n",
        "        ax.annotate(f'{height:.0f}', xy=(bar.get_x() + bar.get_width() / 2, y_pos),\n",
        "                    xytext=(0, 3),  # Vertical offset\n",
        "                    textcoords=\"offset points\", ha='center', va='center')  # Center the text vertically\n",
        "\n",
        "plt.show()\n"
      ],
      "metadata": {
        "id": "AFhsconerlA7"
      },
      "execution_count": null,
      "outputs": []
    },
    {
      "cell_type": "code",
      "source": [
        "# Dropping null values in the 'Fatal' column\n",
        "df_q2.dropna(subset=['Fatal'], inplace=True)"
      ],
      "metadata": {
        "id": "2m2WhSQlrwfz"
      },
      "execution_count": null,
      "outputs": []
    },
    {
      "cell_type": "code",
      "source": [
        "# Display all unique values of 'Fatal' to clean it\n",
        "# Get the value counts of 'Fatal'\n",
        "df_q2['Fatal'].value_counts()"
      ],
      "metadata": {
        "id": "vAL07I3Xsp_r"
      },
      "execution_count": null,
      "outputs": []
    },
    {
      "cell_type": "code",
      "source": [
        "# Change and drop values in 'Fatal' column\n",
        "# Replace 'Y' with True and ' N' with False\n",
        "df_q2['Fatal'] = df_q2['Fatal'].replace({'Y': True, 'N': False, ' N': False})\n",
        "\n",
        "# Remove rows with invalid entries in the 'Fatal' column\n",
        "invalid_entries = ['M', '2017', 'UNKNOWN']\n",
        "df_q2 = df_q2[~df_q2['Fatal'].isin(invalid_entries)]\n",
        "\n",
        "# Convert the 'Fatal' column to boolean type\n",
        "df_q2['Fatal'] = df_q2['Fatal'].astype(bool)\n",
        "\n",
        "# Display the value counts of 'Fatal'\n",
        "df_q2['Fatal'].value_counts()"
      ],
      "metadata": {
        "id": "CJSItIh0s3Pk"
      },
      "execution_count": null,
      "outputs": []
    },
    {
      "cell_type": "code",
      "source": [
        "# Filter the DataFrame to separate children and adults\n",
        "children = df_q2[df_q2['Age'] < 18]\n",
        "adults = df_q2[df_q2['Age'] >= 18]\n",
        "\n",
        "# Count the number of fatal and non-fatal attacks for children and adults\n",
        "children_fatal = children['Fatal'].sum()\n",
        "children_non_fatal = (~children['Fatal']).sum()\n",
        "adults_fatal = adults['Fatal'].sum()\n",
        "adults_non_fatal = (~adults['Fatal']).sum()\n",
        "\n",
        "# Create stacked bar chart\n",
        "fig, ax = plt.subplots(figsize=(10, 6))\n",
        "bar1 = ax.bar(['Children below 18'], [children_fatal], color='#6495ED', label='Fatal', zorder=2)\n",
        "bar2 = ax.bar(['Children below 18'], [children_non_fatal], color='#ADD8E6', bottom=[children_fatal], label='Non-Fatal', zorder=2)\n",
        "bar3 = ax.bar(['Adults age 18 or older'], [adults_fatal], color='#6495ED', zorder=2)\n",
        "bar4 = ax.bar(['Adults age 18 or older'], [adults_non_fatal], color='#ADD8E6', bottom=[adults_fatal], zorder=2)\n",
        "ax.set_xlabel('Age Group')\n",
        "ax.set_ylabel('Number of Attacks')\n",
        "ax.set_title('Number of Shark Attacks by Age Group and Fatality')\n",
        "ax.legend()\n",
        "ax.grid(axis='y', linestyle='--', alpha=0.5, color='grey', zorder=1)\n",
        "\n",
        "# Add labels to the bars\n",
        "for bars in [bar1, bar2, bar3, bar4]:\n",
        "    for bar in bars:\n",
        "        height = bar.get_height()\n",
        "        y_pos = bar.get_y() + height / 2  # Calculate the y-coordinate of the middle of each part of the stacked bars\n",
        "        ax.annotate(f'{height:.0f}', xy=(bar.get_x() + bar.get_width() / 2, y_pos),\n",
        "                    xytext=(0, 0),  # No vertical offset\n",
        "                    textcoords=\"offset points\", ha='center', va='center')\n",
        "\n",
        "plt.show()"
      ],
      "metadata": {
        "id": "75nZNwcSutjs"
      },
      "execution_count": null,
      "outputs": []
    },
    {
      "cell_type": "code",
      "source": [
        "# Filter the DataFrame to separate children under 14\n",
        "children_14 = df_q2[df_q2['Age'] < 14].shape[0]\n",
        "adults_above_14 = df_q2[df_q2['Age'] >= 14].shape[0]\n",
        "\n",
        "# Create a bar chart with an Axes object\n",
        "fig, ax = plt.subplots(figsize=(8, 6))\n",
        "bar_container = ax.bar(['Age below 14', 'Age 14 and up'], [children_14, adults_above_14], color=['#6495ED', '#3CB371'], zorder=2)\n",
        "ax.set_xlabel('Age Group')\n",
        "ax.set_ylabel('Number of attacks')\n",
        "ax.set_title('Amount of people attacked by sharks')\n",
        "ax.grid(axis='y', linestyle='--', alpha=0.5, color='grey', zorder=1)\n",
        "\n",
        "# Add labels to the bars\n",
        "for bar in bar_container:\n",
        "    height = bar.get_height()\n",
        "    ax.text(bar.get_x() + bar.get_width() / 2, height / 2, f'{height:.0f}',\n",
        "             ha='center', va='center')\n",
        "plt.show()"
      ],
      "metadata": {
        "id": "QZ_f8PP3wc37"
      },
      "execution_count": null,
      "outputs": []
    },
    {
      "cell_type": "code",
      "source": [
        "# Filter the DataFrame to separate children and adults\n",
        "young_children = df_q2[df_q2['Age'] < 14]\n",
        "older_and_adult = df_q2[df_q2['Age'] >= 14]\n",
        "\n",
        "# Count the number of fatal and non-fatal attacks for children and adults\n",
        "young_children_fatal = young_children['Fatal'].sum()\n",
        "young_children_non_fatal = (~young_children['Fatal']).sum()\n",
        "older_adults_fatal = older_and_adult['Fatal'].sum()\n",
        "older_adults_non_fatal = (~older_and_adult['Fatal']).sum()\n",
        "\n",
        "# Create grouped bar chart\n",
        "fig, ax = plt.subplots(figsize=(10, 6))\n",
        "bar_width = 0.4  # Width of each bar\n",
        "index = np.arange(2)  # Number of age groups\n",
        "\n",
        "bar1 = ax.bar(index - bar_width / 2, [young_children_fatal, older_adults_fatal], bar_width, color='#6495ED', label='Fatal', zorder=2)\n",
        "bar2 = ax.bar(index + bar_width / 2, [young_children_non_fatal, older_adults_non_fatal], bar_width, color='#ADD8E6', label='Non-Fatal', zorder=2)\n",
        "\n",
        "ax.set_xlabel('Age Group')\n",
        "ax.set_ylabel('Number of Attacks')\n",
        "ax.set_title('Amount of people attacked by sharks')\n",
        "ax.set_xticks(index)\n",
        "ax.set_xticklabels(['Age below 14', 'Age 14 and up'])\n",
        "ax.legend()\n",
        "ax.grid(axis='y', linestyle='--', alpha=0.5, color='grey', zorder=1)\n",
        "\n",
        "# Add labels to the bars\n",
        "for bars in [bar1, bar2]:\n",
        "    for bar in bars:\n",
        "        height = bar.get_height()\n",
        "        ax.annotate(f'{height:.0f}', xy=(bar.get_x() + bar.get_width() / 2, height),\n",
        "                    xytext=(0, 3),  # 3 points vertical offset\n",
        "                    textcoords=\"offset points\", ha='center', va='bottom')\n",
        "\n",
        "plt.show()"
      ],
      "metadata": {
        "id": "2okRzeq64PeM"
      },
      "execution_count": null,
      "outputs": []
    },
    {
      "cell_type": "code",
      "source": [
        "percentage_children_fatal = (young_children_fatal / (young_children_fatal + young_children_non_fatal)) * 100\n",
        "percentage_adults_fatal = (older_adults_fatal / (older_adults_fatal + older_adults_non_fatal)) * 100\n",
        "print(\"Percentage of attacks on children that are fatal: {:.2f}%\".format(percentage_children_fatal))\n",
        "print(\"Percentage of attacks on adults that are fetal: {:.2f}%\".format(percentage_adults_fatal))\n"
      ],
      "metadata": {
        "id": "oIBsGdTWyNWL"
      },
      "execution_count": null,
      "outputs": []
    },
    {
      "cell_type": "markdown",
      "source": [
        "To answer the second question:\n",
        "\n",
        "**Are children more likely to be attacked by sharks?**\n",
        "\n",
        "No, at first sight, adults are more likely to be attacked by sharks. Also, when adults are attacked, there is a slightly bigger chance the attack is fatal (19%, where on children this chance is 15%).\n",
        "\n",
        "However, that might be a too quick conclusion as this only considers the absolute likelihood. While there are fewer reported shark attacks among children compared to adults, if the total population of children is significantly smaller than that of adults (which is indeed the case), the relative likelihood of a child being attacked by a shark might be higher.\n",
        "\n",
        "To explore the relative likelihood, let's consider the population size of children and adults. According to data from [The World Bank](https://data.worldbank.org/indicator/SP.POP.0014.TO.ZS), approximately 25% of the total population is below 14 years old in 2021. With the total world population in 2021 being 7.89 billion (7,890,000,000), the relative likelihood of a child being attacked by sharks can be calculated."
      ],
      "metadata": {
        "id": "YDNcqBqoiowY"
      }
    },
    {
      "cell_type": "code",
      "source": [
        "# Calculate the percentages\n",
        "attacks_children = (345 / 7890000000) * 100\n",
        "attacks_adults = (2790 / 7890000000) * 100\n",
        "pd.options.display.float_format = '{:.0f}'.format\n",
        "print(f'Total percentage of children of the population that is attacked by sharks: {attacks_children}%')\n",
        "print(f'Total percentage of adults of the population that is attacked by sharks: {attacks_adults}%')"
      ],
      "metadata": {
        "id": "YKiQGzA5uDXN"
      },
      "execution_count": null,
      "outputs": []
    },
    {
      "cell_type": "markdown",
      "source": [
        "\"While the data suggests that, relatively speaking, children are more susceptible to shark attacks, several factors should be considered to accurately interpret this information:\n",
        "- Data completeness: The dataset may not represent all shark attacks globally. Variations could exist due to missing data from certain geographical regions or inconsistencies in reporting.\n",
        "- Reporting bias: Certain attacks may be more likely to be reported, regardless of whether children are involved, leading to potential biases in the dataset.\n",
        "- Data integrity: Only records with clear age numbers were included, potentially omitting attacks where the age of the victim was not specified.\n",
        "- Activity Participation: Children may participate more or less frequently in activities that provoke shark attacks compared to adults. Factors such as beach activities or water sports could influence exposure levels.\n",
        "- Behavioral Differences: Behavioral differences between children and adults, such as awareness of potential dangers or adherence to safety measures during activities, may also impact attack rates.\n",
        "\n",
        "Given these considerations, providing a definitive explanation for if and why children are more or less prone to shark attacks remains challenging."
      ],
      "metadata": {
        "id": "E2qU1Yvsutte"
      }
    },
    {
      "cell_type": "markdown",
      "source": [
        "## 3. Are shark attacks where sharks were provoked more or less dangerous?"
      ],
      "metadata": {
        "id": "joOzgeE16IW7"
      }
    },
    {
      "cell_type": "markdown",
      "source": [
        "To answer this question, it's needed to make a clear definition of 'more or less dangerous'. In this context 'dangerous' means fatal. Therefore, a shark attack is considered more 'dangerous' if the attack was fatal. Because, again, it's hard to rank injuries based on severity.\n",
        "\n",
        "So if there is a correlation between provoked sharks and fatal attacks, then attacks where sharks were provoked are more dangerous.\n",
        "We need however to take into consideration that we don't have reported incidents in our data of sharks that were provoked but didn't attack.\n",
        "\n",
        "Steps to take:\n",
        "- Clean up the 'Fatal' column again the same way as before.\n",
        "- Clean up the 'Type' column.\n",
        "- Create a chart to visualize the outcomes."
      ],
      "metadata": {
        "id": "zzI_tbw16KMq"
      }
    },
    {
      "cell_type": "code",
      "source": [
        "# Copying the original dataframe again\n",
        "# Also drop all rows with empty values in 'Type' or 'Fatal'.\n",
        "df_q3 = df.copy()\n",
        "df_q3.dropna(subset=['Type', 'Fatal'], inplace=True)\n",
        "missing_values(df_q3)"
      ],
      "metadata": {
        "id": "5pe0WPOT7Vja"
      },
      "execution_count": null,
      "outputs": []
    },
    {
      "cell_type": "code",
      "source": [
        "# So again, change and drop values in 'Fatal' column\n",
        "# Replace 'Y' with True and ' N' with False\n",
        "df_q3['Fatal'] = df_q3['Fatal'].replace({'Y': True, 'N': False, ' N': False})\n",
        "\n",
        "# Remove rows with invalid entries in the 'Fatal' column\n",
        "invalid_entries = ['M', '2017', 'UNKNOWN']\n",
        "df_q3 = df_q3[~df_q3['Fatal'].isin(invalid_entries)]\n",
        "\n",
        "# Convert the 'Fatal' column to boolean type\n",
        "df_q3['Fatal'] = df_q3['Fatal'].astype(bool)\n",
        "\n",
        "# Display the value counts of 'Fatal'\n",
        "df_q3['Fatal'].value_counts()"
      ],
      "metadata": {
        "id": "Bfz55WsA8IWy"
      },
      "execution_count": null,
      "outputs": []
    },
    {
      "cell_type": "code",
      "source": [
        "# View the values of the 'Type' column\n",
        "df_q3['Type'].value_counts()"
      ],
      "metadata": {
        "id": "ZdJU9bxj8rij"
      },
      "execution_count": null,
      "outputs": []
    },
    {
      "cell_type": "markdown",
      "source": [
        "There are some values that aren't categorized as 'Provoked' or 'Unprovoked' but still have a lot of occurrences. Let's categorize them:\n",
        "- 'Sea Disaster': This can be categorized as 'unprovoked', as those are disasters and not intentionally provoked behaviour.\n",
        "- 'Boating' / 'Boat': According to [ISAF](https://www.floridamuseum.ufl.edu/shark-attacks/about/isaf-case-classifications/), bites on boats can be either provoked or unprovoked, depending on if there is baited fishing involved. As this is not clear, these cases won't be used for the analysis.\n",
        "- 'Invalid': These can't be categorized so those won't be used for the analysis.\n",
        "- 'Questionable': These can't be categorized so those won't be used for the analysis.\n",
        "- 'Boatomg': This is probably a typo and should be 'Boating'.\n"
      ],
      "metadata": {
        "id": "dTS5GdXn85FK"
      }
    },
    {
      "cell_type": "code",
      "source": [
        "# Replace 'Sea Disaster' with 'Unprovoked' in the 'Type' column\n",
        "df_q3['Type'] = df_q3['Type'].replace({'Sea Disaster': 'Unprovoked'})\n",
        "\n",
        "# Remove unclear rows in the 'Type' column\n",
        "unclear_entries = ['Boating', 'Boat', 'Invalid', 'Questionable', 'Boatomg']\n",
        "df_q3 = df_q3[~df_q3['Type'].isin(unclear_entries)]\n",
        "\n",
        "# View the values of the 'Type' column\n",
        "df_q3['Type'].value_counts()"
      ],
      "metadata": {
        "id": "EZ2hdx0GF75J"
      },
      "execution_count": null,
      "outputs": []
    },
    {
      "cell_type": "code",
      "source": [
        "# Filter the DataFrame to include only fatal attacks\n",
        "fatal_attacks = df_q3[df_q3['Fatal']]\n",
        "\n",
        "# Count the number of fatal attacks that are provoked and unprovoked\n",
        "provoked_fatal = fatal_attacks[fatal_attacks['Type'] == 'Provoked'].shape[0]\n",
        "unprovoked_fatal = fatal_attacks[fatal_attacks['Type'] == 'Unprovoked'].shape[0]\n",
        "\n",
        "# Create a pie chart with custom labels\n",
        "fig, ax = plt.subplots(figsize=(8, 6))\n",
        "labels = ['Provoked', 'Unprovoked']\n",
        "sizes = [provoked_fatal, unprovoked_fatal]\n",
        "colors = ['#4169E1', '#3CB371']\n",
        "\n",
        "# Generate custom labels with percentage values\n",
        "percentages = [f'{label} ({size/sum(sizes)*100:.1f}%)' for label, size in zip(labels, sizes)]\n",
        "\n",
        "# Plot the pie chart with custom labels\n",
        "ax.pie(sizes, labels=percentages, colors=colors, startangle=140)\n",
        "ax.set_title('Percentage of fatal attacks that was provoked or unprovoked')\n",
        "plt.show()\n",
        "\n"
      ],
      "metadata": {
        "id": "1dC7XhgWVtxX"
      },
      "execution_count": null,
      "outputs": []
    },
    {
      "cell_type": "markdown",
      "source": [
        "So to answer the third question:\n",
        "\n",
        "**Are shark attacks where sharks were provoked more or less dangerous?**\n",
        "\n",
        "Shark attacks where sharks were provoked are less dangerous. Most fatal attacks occur when sharks are unprovoked."
      ],
      "metadata": {
        "id": "fdkWHq8MXSwn"
      }
    },
    {
      "cell_type": "markdown",
      "source": [
        "## 4. Are certain activities more likely to result in a shark attack?"
      ],
      "metadata": {
        "id": "yaNeMYpVXnmW"
      }
    },
    {
      "cell_type": "markdown",
      "source": [
        "To answer this question, the activities individuals were engaged in at the time of a shark attack need to be identified. Whether the attack was fetal or not, is irrelevant in this case.\n",
        "\n",
        "Steps to take:\n",
        "\n",
        "- Remove all rows with missing values in the 'Activities' column, as they cannot be used.\n",
        "- Organize the 'Activities' column into distinct categories.There are 1532 unique activities. Let's see if they can be categorized in some way.\n",
        "- Create a ranking chart of what activities are most commonly associated with shark attacks."
      ],
      "metadata": {
        "id": "ei43BklCXss-"
      }
    },
    {
      "cell_type": "code",
      "source": [
        "# Copying the original dataframe again\n",
        "# Drop all rows with empty values in 'Activity'\n",
        "df_q4 = df.copy()\n",
        "df_q4.dropna(subset=['Activity'], inplace=True)\n",
        "missing_values(df_q4)"
      ],
      "metadata": {
        "id": "cRt2fIv8YHXn"
      },
      "execution_count": null,
      "outputs": []
    },
    {
      "cell_type": "code",
      "source": [
        "# Get the counts of each activity in descending order\n",
        "activities = df_q4['Activity'].value_counts(ascending=False)\n",
        "\n",
        "# Get the top 25 activities by count\n",
        "top_30_activities = activities.head(25)\n",
        "\n",
        "# Display the top 25 activities\n",
        "print(top_30_activities)"
      ],
      "metadata": {
        "id": "y2w5NVeWYf9Q"
      },
      "execution_count": null,
      "outputs": []
    },
    {
      "cell_type": "code",
      "source": [
        "# Convert all characters to lowercase\n",
        "df_q4['Activity'] = df_q4['Activity'].str.lower()\n",
        "\n",
        "# Replace activities containing 'Surf' with 'Surfing'\n",
        "df_q4.loc[df_q4['Activity'].str.contains('surf'), 'Activity'] = 'Surfing'\n",
        "df_q4.loc[df_q4['Activity'].str.contains('board'), 'Activity'] = 'Surfing'\n",
        "\n",
        "# Replace activities containing 'Fishing' with 'Fishing' except for 'Spearfishing'\n",
        "df_q4.loc[df_q4['Activity'].str.contains('fishing'), 'Activity'] = 'Fishing'\n",
        "\n",
        "# Replace activities containing 'Spearfishing' with 'Spearfishing'\n",
        "df_q4.loc[df_q4['Activity'].str.contains('spearfishing'), 'Activity'] = 'Spearfishing'\n",
        "\n",
        "# Replace activities containing 'Diving' with 'Diving'\n",
        "df_q4.loc[df_q4['Activity'].str.contains('diving'), 'Activity'] = 'Diving'\n",
        "\n",
        "# Replace activities containing 'Swimming' with 'Swimming'\n",
        "df_q4.loc[df_q4['Activity'].str.contains('swimming'), 'Activity'] = 'Swimming'\n",
        "\n",
        "# Replace activities containing that fall into 'Boating' category with 'Boating'\n",
        "df_q4.loc[df_q4['Activity'].str.contains('boat')] = 'Boating'\n",
        "df_q4.loc[df_q4['Activity'].str.contains('kayaking')] = 'Boating'\n",
        "df_q4.loc[df_q4['Activity'].str.contains('canoeing')] = 'Boating'\n",
        "df_q4.loc[df_q4['Activity'].str.contains('rowing')] = 'Boating'\n",
        "df_q4.loc[df_q4['Activity'].str.contains('sailing')] = 'Boating'\n",
        "\n",
        "# Capitalize the first letter of each row\n",
        "df_q4['Activity'] = df_q4['Activity'].str.capitalize()\n",
        "\n",
        "# Display the first 30 modified activities\n",
        "print(df_q4['Activity'].value_counts().head(10))"
      ],
      "metadata": {
        "id": "ArhpE8pIaBEq"
      },
      "execution_count": null,
      "outputs": []
    },
    {
      "cell_type": "code",
      "source": [
        "# Make vertical bar chart to display the most dangerous activities\n",
        "activity_count = df_q4['Activity'].value_counts().head(5)\n",
        "\n",
        "# Plot a bar chart\n",
        "plt.figure(figsize=(8, 6))\n",
        "bar_container = activity_count.plot(kind='bar', color='skyblue', zorder=2)\n",
        "plt.xlabel('Activity')\n",
        "plt.ylabel('Count')\n",
        "plt.title('Top 5 Most Occurring Activities when sharks attack')\n",
        "plt.xticks(rotation=45, ha='right')\n",
        "plt.grid(axis='y', linestyle='--', alpha=0.5, zorder=1)\n",
        "\n",
        "# Add labels to the bars\n",
        "for i, count in enumerate(activity_count):\n",
        "    plt.text(i, count/2, str(count), ha='center', va='center')\n",
        "\n",
        "plt.tight_layout()\n",
        "plt.show()\n"
      ],
      "metadata": {
        "id": "cEAH5nHDfjW_"
      },
      "execution_count": null,
      "outputs": []
    },
    {
      "cell_type": "markdown",
      "source": [
        "So to answer the fourth question:\n",
        "\n",
        "**4. Are certain activities more likely to result in a shark attack?**\n",
        "\n",
        "Yes, there are certain activities that are more likely to result in a shark attack. Surfing is the number 1 activity that is likely to result in a shark attack. Also fishing, swimming, diving and boating are in the top 5 of activities that resulted in a shark attack."
      ],
      "metadata": {
        "id": "3FMvKjW6g9Wd"
      }
    }
  ]
}